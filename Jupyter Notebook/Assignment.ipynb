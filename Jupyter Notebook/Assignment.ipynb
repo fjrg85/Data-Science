{
 "cells": [
  {
   "cell_type": "markdown",
   "id": "8fd8e258-e967-4d50-a0a7-32727230981c",
   "metadata": {},
   "source": [
    "# Data Science Tools and Ecosystem"
   ]
  },
  {
   "cell_type": "markdown",
   "id": "843b4baf-5fd7-4b78-9dc7-0591bded75a4",
   "metadata": {},
   "source": [
    "In this notebook, Data Science Tools and Ecosystem are summarized."
   ]
  },
  {
   "cell_type": "markdown",
   "id": "049b625c-c4e4-4f04-aef2-451698024355",
   "metadata": {},
   "source": [
    "Some of the popular languages that Data Scientists use are:\n",
    "1. Python\n",
    "2. R\n",
    "3. Julia"
   ]
  },
  {
   "cell_type": "markdown",
   "id": "7ac4d79f-1cd0-4ed2-bea4-3149cc6fd5f6",
   "metadata": {},
   "source": [
    "Some of the commonly used libraries used by Data Scientists include:\n",
    "* NumPy\n",
    "* Keras\n",
    "* Pandas"
   ]
  },
  {
   "cell_type": "markdown",
   "id": "70c2020e-c50c-4fc0-be45-7344f44cfa80",
   "metadata": {},
   "source": [
    "|Data Science Tools|\n",
    "|----|\n",
    "|Jupyter Notebook|\n",
    "|RStudio|\n",
    "|Visual Studio Code|"
   ]
  },
  {
   "cell_type": "markdown",
   "id": "99dffe93-ac1e-4c72-838d-c1df1b725d21",
   "metadata": {},
   "source": [
    "### Below are a few examples of evaluating arithmetic expressions in Python"
   ]
  },
  {
   "cell_type": "code",
   "execution_count": 22,
   "id": "32fc6a45-8337-4c70-b763-6b6f020c41d9",
   "metadata": {},
   "outputs": [
    {
     "data": {
      "text/plain": [
       "17"
      ]
     },
     "execution_count": 22,
     "metadata": {},
     "output_type": "execute_result"
    }
   ],
   "source": [
    "(3*4)+5\n",
    "# This a simple arithmetic expression to mutiply then add integers"
   ]
  },
  {
   "cell_type": "code",
   "execution_count": 24,
   "id": "1e7cf291-78ea-4cea-8a35-240f39f73368",
   "metadata": {},
   "outputs": [
    {
     "data": {
      "text/plain": [
       "3.3333333333333335"
      ]
     },
     "execution_count": 24,
     "metadata": {},
     "output_type": "execute_result"
    }
   ],
   "source": [
    "# This will convert 200 minutes to hours by diving by 60\n",
    "200/60"
   ]
  },
  {
   "cell_type": "markdown",
   "id": "d80b2338-c48f-4276-8c26-91df18bd204c",
   "metadata": {},
   "source": [
    "***Objectives: List popular languages for Data Science***\n",
    "+ Python\n",
    "+ R\n",
    "+ Julia"
   ]
  },
  {
   "cell_type": "markdown",
   "id": "ef5eb34e-4155-45a8-a71f-cd2b16746bb1",
   "metadata": {},
   "source": [
    "## Author\n",
    "___Francis Rosales___"
   ]
  }
 ],
 "metadata": {
  "kernelspec": {
   "display_name": "Python [conda env:base] *",
   "language": "python",
   "name": "conda-base-py"
  },
  "language_info": {
   "codemirror_mode": {
    "name": "ipython",
    "version": 3
   },
   "file_extension": ".py",
   "mimetype": "text/x-python",
   "name": "python",
   "nbconvert_exporter": "python",
   "pygments_lexer": "ipython3",
   "version": "3.12.7"
  }
 },
 "nbformat": 4,
 "nbformat_minor": 5
}
